{
 "cells": [
  {
   "cell_type": "markdown",
   "metadata": {},
   "source": [
    "### Algorithm_Course1_Week2\n",
    "This file contains all of the 100,000 integers between 1 and 100,000 (inclusive) in some order, with no integer repeated.\n",
    "\n",
    "Your task is to compute the number of inversions in the file given, where the i^{th}i \n",
    "th\n",
    "  row of the file indicates the i^{th}i \n",
    "th\n",
    "  entry of an array.\n",
    "\n",
    "Because of the large size of this array, you should implement the fast divide-and-conquer algorithm covered in the video lectures.\n",
    "\n",
    "The numeric answer for the given input file should be typed in the space below.\n",
    "\n",
    "So if your answer is 1198233847, then just type 1198233847 in the space provided without any space / commas / any other punctuation marks. You can make up to 5 attempts, and we'll use the best one for grading.\n",
    "\n",
    "(We do not require you to submit your code, so feel free to use any programming language you want --- just type the final numeric answer in the following space.)\n",
    "\n",
    "[TIP: before submitting, first test the correctness of your program on some small test files or your own devising. Then post your best test cases to the discussion forums to help your fellow students!]"
   ]
  },
  {
   "cell_type": "code",
   "execution_count": 22,
   "metadata": {},
   "outputs": [],
   "source": [
    "f = open(\"IntegerArray.txt\", \"r\")\n",
    "#txt = f.read(54)\n",
    "IntegerArray = []\n",
    "for x in f:\n",
    "    IntegerArray.append(int(x.strip()))\n",
    "#print(len(IntegerArray))\n",
    "f.close()"
   ]
  },
  {
   "cell_type": "code",
   "execution_count": 23,
   "metadata": {},
   "outputs": [],
   "source": [
    "def count_split_inv(x, y):\n",
    "    i = 0\n",
    "    j = 0\n",
    "    newlist = []\n",
    "    c = 0\n",
    "    while i < len(x) and j < len(y):\n",
    "        if x[i] < y[j]:\n",
    "            newlist.append(x[i])\n",
    "            i = i + 1\n",
    "        else:\n",
    "            newlist.append(y[j])\n",
    "            j = j + 1\n",
    "            c = c + len(x)-i\n",
    "    if j == len(y):\n",
    "        newlist = newlist + x[i:]\n",
    "    if i == len(x):\n",
    "        newlist = newlist + y[j:]\n",
    "    return newlist, c\n",
    "\n",
    "\n",
    "def count_and_sort(Array):\n",
    "    n = len(Array)\n",
    "    if n == 1:\n",
    "        return Array, 0\n",
    "    else: \n",
    "        x,c1 = count_and_sort(Array[:int(n/2)])\n",
    "        y,c2 = count_and_sort(Array[int(n/2):])\n",
    "        z,c3 = count_split_inv(x, y)\n",
    "        #print(len(x) + len(y) == len(z))\n",
    "        c = c1 + c2 + c3\n",
    "        return z, c\n",
    "\n"
   ]
  },
  {
   "cell_type": "code",
   "execution_count": 24,
   "metadata": {},
   "outputs": [
    {
     "name": "stdout",
     "output_type": "stream",
     "text": [
      "100000 100000 2407905288\n",
      "run time is 924 ms\n"
     ]
    }
   ],
   "source": [
    "#A = [3, 2, 5, 6]\n",
    "#B = [1, 4, 9, 11]\n",
    "#X, C = count_split_inv(A, B)\n",
    "#print(X, C)\n",
    "\n",
    "import time\n",
    "\n",
    "start_time = time.time()\n",
    "sorted_array, count = count_and_sort(IntegerArray)\n",
    "end_time = time.time()\n",
    "\n",
    "print(len(IntegerArray), len(sorted_array), count)\n",
    "print(\"run time is %d ms\" % ((end_time - start_time)*1000))"
   ]
  },
  {
   "cell_type": "code",
   "execution_count": 25,
   "metadata": {},
   "outputs": [],
   "source": [
    "### Brute force Method ###\n",
    "def count_inversion_brute_force(Arr):\n",
    "    c = 0\n",
    "    for i in range(len(Arr)-1):\n",
    "        for j in range(i+1, len(Arr)):\n",
    "           # print(j)\n",
    "            if Arr[j] < Arr[i]:\n",
    "                c = c + 1\n",
    "    return c"
   ]
  },
  {
   "cell_type": "code",
   "execution_count": 26,
   "metadata": {},
   "outputs": [
    {
     "name": "stdout",
     "output_type": "stream",
     "text": [
      "2407905288\n",
      "brute force run time is 468908 ms\n"
     ]
    }
   ],
   "source": [
    "start_time = time.time()\n",
    "Arr1 = [3, 4, 5, 2, 1]\n",
    "c = count_inversion_brute_force(IntegerArray)\n",
    "end_time = time.time()\n",
    "\n",
    "print(c)\n",
    "print(\"brute force run time is %d ms\" % ((end_time - start_time)*1000))"
   ]
  },
  {
   "cell_type": "code",
   "execution_count": null,
   "metadata": {},
   "outputs": [],
   "source": []
  }
 ],
 "metadata": {
  "kernelspec": {
   "display_name": "Python 3",
   "language": "python",
   "name": "python3"
  },
  "language_info": {
   "codemirror_mode": {
    "name": "ipython",
    "version": 3
   },
   "file_extension": ".py",
   "mimetype": "text/x-python",
   "name": "python",
   "nbconvert_exporter": "python",
   "pygments_lexer": "ipython3",
   "version": "3.7.4"
  }
 },
 "nbformat": 4,
 "nbformat_minor": 2
}
