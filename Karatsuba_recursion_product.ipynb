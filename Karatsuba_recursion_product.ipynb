{
 "cells": [
  {
   "cell_type": "markdown",
   "metadata": {},
   "source": [
    "## Week 1 Assignment\n",
    "\n",
    "#### To get the most out of this assignment, your program should restrict itself to multiplying only pairs of single-digit numbers. You can implement the grade-school algorithm if you want, but to get the most out of the assignment you'll want to implement recursive integer multiplication and/or Karatsuba's algorithm.\n",
    "\n",
    "#### So: what's the product of the following two 64-digit numbers?\n",
    "\n",
    "##### 3141592653589793238462643383279502884197169399375105820974944592\n",
    "\n",
    "##### 2718281828459045235360287471352662497757247093699959574966967627\n",
    "\n",
    "#### [TIP: before submitting, first test the correctness of your program on some small test cases of your own devising. Then post your best test cases to the discussion forums to help your fellow students!]\n",
    "\n",
    "#### [Food for thought: the number of digits in each input number is a power of 2. Does this make your life easier? Does it depend on which algorithm you're implementing?]\n"
   ]
  },
  {
   "cell_type": "code",
   "execution_count": 2,
   "metadata": {},
   "outputs": [],
   "source": [
    "import time\n",
    "import math\n",
    "x = 3141592653589793238462643383279502884197169399375105820974944592\n",
    "y = 2718281828459045235360287471352662497757247093699959574966967627"
   ]
  },
  {
   "cell_type": "code",
   "execution_count": 9,
   "metadata": {},
   "outputs": [],
   "source": [
    "### Python Default ###\n",
    "\n",
    "def python_product(x:int, y: int):\n",
    "    product = x * y\n",
    "    return product\n",
    "\n",
    "\n",
    "### 3rd grade product ###\n",
    "\n",
    "def brute_product(x:int, y:int):\n",
    "    x = str(x)\n",
    "    y = str(y)\n",
    "    x = [int(n) for n in x]\n",
    "    y = [int(n) for n in y]\n",
    "    len_x = len(x)\n",
    "    len_y = len(y)\n",
    "    product = 0\n",
    "    for i in range(len_x):\n",
    "        for j in range(len_y):\n",
    "            product += x[i]*10**(len_x-i-1)*y[j]*10**(len_y-j-1)\n",
    "    return product\n"
   ]
  },
  {
   "cell_type": "code",
   "execution_count": 10,
   "metadata": {},
   "outputs": [
    {
     "name": "stdout",
     "output_type": "stream",
     "text": [
      "python default algorithm run time =  0.0 ms\n",
      "python product = 8539734222673567065463550869546574495034888535765114961879601127067743044893204848617875072216249073013374895871952806582723184\n"
     ]
    }
   ],
   "source": [
    "start_time = time.time()\n",
    "z1 = python_product(x, y)\n",
    "t1 = time.time() - start_time\n",
    "\n",
    "print(\"python default algorithm run time = \", (t1)*1000, \"ms\")\n",
    "print(\"python product =\", z1)"
   ]
  },
  {
   "cell_type": "code",
   "execution_count": 4,
   "metadata": {},
   "outputs": [
    {
     "name": "stdout",
     "output_type": "stream",
     "text": [
      "third grade algorithm run time =  10.026693344116211 ms\n",
      "thire grade product = 8539734222673567065463550869546574495034888535765114961879601127067743044893204848617875072216249073013374895871952806582723184\n",
      "0\n"
     ]
    }
   ],
   "source": [
    "start_time = time.time()\n",
    "\n",
    "z2 = brute_product(x, y)\n",
    "t2 = time.time() - start_time\n",
    "\n",
    "print(\"third grade algorithm run time = \", (t2)*1000, \"ms\")\n",
    "print(\"thire grade product =\", z2)\n",
    "print(z2-z1)"
   ]
  },
  {
   "cell_type": "code",
   "execution_count": 16,
   "metadata": {},
   "outputs": [],
   "source": [
    "### merge-sort product ###\n",
    "\n",
    "def front_padding(x:str, y:str, length):\n",
    "    if len(y) < length:\n",
    "        d = length - len(y)\n",
    "        for i in range(d):\n",
    "            y = x + y\n",
    "    return y\n",
    "\n",
    "def mergesort_product(x: int, y:int):\n",
    "    x = str(x)\n",
    "    y = str(y)\n",
    "    counter = max(len(x), len(y))\n",
    "    #print(counter)\n",
    "    \n",
    "    if counter > 1:\n",
    "        if counter%2 == 0:\n",
    "            counter = counter\n",
    "        else:\n",
    "            counter = counter + 1\n",
    "            \n",
    "        x = front_padding('0', x, counter)\n",
    "        y = front_padding('0', y, counter)\n",
    "        #print(x, y)\n",
    "        \n",
    "        a = int(x[:int(counter/2)])\n",
    "        b = int(x[int(counter/2):])\n",
    "        c = int(y[:int(counter/2)])\n",
    "        d = int(y[int(counter/2):])\n",
    "        #print(a, b, c, d)\n",
    "        \n",
    "        ab = a + b\n",
    "        cd = c + d\n",
    "        \n",
    "        a_c = mergesort_product(a, c) \n",
    "        b_d = mergesort_product(b, d)\n",
    "        ab_cd = mergesort_product(ab, cd)\n",
    "        \n",
    "        #n = ab_cd - a_c - b_d\n",
    "        a_d = mergesort_product(a, d)\n",
    "        b_c = mergesort_product(b, c)\n",
    "        \n",
    "        product = a_c*(10**counter) + b_d + (a_d + b_c)*(10**(counter/2))        \n",
    "        \n",
    "        return product\n",
    "    \n",
    "    if counter == 1:\n",
    "        return int(x)*int(y)\n",
    "    "
   ]
  },
  {
   "cell_type": "code",
   "execution_count": 17,
   "metadata": {},
   "outputs": [
    {
     "name": "stdout",
     "output_type": "stream",
     "text": [
      "mergesort algorithm run time =  140.8860683441162 ms\n",
      "mergesort product = 8.539734222673568e+126\n",
      "1.2024538023802026e+111\n"
     ]
    }
   ],
   "source": [
    "start_time = time.time()\n",
    "\n",
    "z3 = mergesort_product(x, y)\n",
    "t3 = time.time() - start_time\n",
    "\n",
    "print(\"mergesort algorithm run time = \", (t3)*1000, \"ms\")\n",
    "print(\"mergesort product =\", z3)\n",
    "print(z3 - z1)"
   ]
  },
  {
   "cell_type": "code",
   "execution_count": 21,
   "metadata": {},
   "outputs": [
    {
     "name": "stdout",
     "output_type": "stream",
     "text": [
      "4208017621500.0\n",
      "True 7\n"
     ]
    }
   ],
   "source": [
    "m = 1234068\n",
    "n = 3409875\n",
    "z_check = mergesort_product(m, n)\n",
    "z_py = m*n\n",
    "print(z_check)\n",
    "print(z_check == z_py, len(str(m)))"
   ]
  },
  {
   "cell_type": "code",
   "execution_count": 6,
   "metadata": {},
   "outputs": [],
   "source": [
    "### solution ###\n",
    "\n",
    "def zeroPad(numberString, zeros, left = True):\n",
    "    \"\"\"Return the string with zeros added to the left or right.\"\"\"\n",
    "    for i in range(zeros):\n",
    "        if left:\n",
    "            numberString = '0' + numberString\n",
    "        else:\n",
    "            numberString = numberString + '0'\n",
    "    return numberString\n",
    "\n",
    "def karatsubaMultiplication(x ,y):\n",
    "    \"\"\"Multiply two integers using Karatsuba's algorithm.\"\"\"\n",
    "    #convert to strings for easy access to digits\n",
    "    x = str(x)\n",
    "    y = str(y)\n",
    "    #base case for recursion\n",
    "    if len(x) == 1 and len(y) == 1:\n",
    "        return int(x) * int(y)\n",
    "    if len(x) < len(y):\n",
    "        x = zeroPad(x, len(y) - len(x))\n",
    "    elif len(y) < len(x):\n",
    "        y = zeroPad(y, len(x) - len(y))\n",
    "    n = len(x)\n",
    "    j = n//2\n",
    "    #for odd digit integers\n",
    "    if (n % 2) != 0:\n",
    "        j += 1    \n",
    "    BZeroPadding = n - j\n",
    "    AZeroPadding = BZeroPadding * 2\n",
    "    a = int(x[:j])\n",
    "    b = int(x[j:])\n",
    "    c = int(y[:j])\n",
    "    d = int(y[j:])\n",
    "    #recursively calculate\n",
    "    ac = karatsubaMultiplication(a, c)\n",
    "    bd = karatsubaMultiplication(b, d)\n",
    "    k = karatsubaMultiplication(a + b, c + d)\n",
    "    A = int(zeroPad(str(ac), AZeroPadding, False))\n",
    "    B = int(zeroPad(str(k - ac - bd), BZeroPadding, False))\n",
    "    return A + B + bd"
   ]
  },
  {
   "cell_type": "code",
   "execution_count": 11,
   "metadata": {},
   "outputs": [
    {
     "name": "stdout",
     "output_type": "stream",
     "text": [
      "karatsuba algorithm run time =  7.014274597167969 ms\n",
      "karatsuba product = 8539734222673567065463550869546574495034888535765114961879601127067743044893204848617875072216249073013374895871952806582723184\n",
      "0\n"
     ]
    }
   ],
   "source": [
    "start_time = time.time()\n",
    "\n",
    "z3 = karatsubaMultiplication(x, y)\n",
    "t3 = time.time() - start_time\n",
    "\n",
    "print(\"karatsuba algorithm run time = \", (t3)*1000, \"ms\")\n",
    "print(\"karatsuba product =\", z3)\n",
    "print(z3 - z1)"
   ]
  },
  {
   "cell_type": "code",
   "execution_count": null,
   "metadata": {},
   "outputs": [],
   "source": []
  }
 ],
 "metadata": {
  "kernelspec": {
   "display_name": "Python 3",
   "language": "python",
   "name": "python3"
  },
  "language_info": {
   "codemirror_mode": {
    "name": "ipython",
    "version": 3
   },
   "file_extension": ".py",
   "mimetype": "text/x-python",
   "name": "python",
   "nbconvert_exporter": "python",
   "pygments_lexer": "ipython3",
   "version": "3.7.4"
  }
 },
 "nbformat": 4,
 "nbformat_minor": 2
}
