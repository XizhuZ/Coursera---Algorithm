{
 "cells": [
  {
   "cell_type": "markdown",
   "metadata": {},
   "source": [
    "## Algorighm_Course1_Week3 ###\n",
    "The file contains all of the integers between 1 and 10,000 (inclusive, with no repeats) in unsorted order. The integer in the i^{th}i \n",
    "th\n",
    "  row of the file gives you the i^{th}i \n",
    "th\n",
    "  entry of an input array.\n",
    "\n",
    "Your task is to compute the total number of comparisons used to sort the given input file by QuickSort. As you know, the number of comparisons depends on which elements are chosen as pivots, so we'll ask you to explore three different pivoting rules.\n",
    "\n",
    "You should not count comparisons one-by-one. Rather, when there is a recursive call on a subarray of length mm, you should simply add m-1m−1 to your running total of comparisons. (This is because the pivot element is compared to each of the other m-1m−1 elements in the subarray in this recursive call.)\n",
    "\n",
    "WARNING: The Partition subroutine can be implemented in several different ways, and different implementations can give you differing numbers of comparisons. For this problem, you should implement the Partition subroutine exactly as it is described in the video lectures (otherwise you might get the wrong answer).\n",
    "\n",
    "### Q1. For the first part of the programming assignment, you should always use the first element of the array as the pivot element.\n",
    "\n",
    "### Q2. Compute the number of comparisons (as in Problem 1), always using the final element of the given array as the pivot element. Again, be sure to implement the Partition subroutine exactly as it is described in the video lectures.\n",
    "\n",
    "Recall from the lectures that, just before the main Partition subroutine, you should exchange the pivot element (i.e., the last element) with the first element.\n",
    "\n",
    "### Q3. Compute the number of comparisons (as in Problem 1), using the \"median-of-three\" pivot rule.In more detail, you should choose the pivot as follows. Consider the first, middle, and final elements of the given array. \n",
    "\n",
    "If the array has odd length it should be clear what the \"middle\" element is; for an array with even length 2k, use the kth element as the \"middle\" element. So for the array 4 5 6 7, the \"middle\" element is the second one, 5 and not 6!\n",
    "\n",
    "Identify which of these three elements is the median (i.e., the one whose value is in between the other two), and use this as your pivot. As discussed in the first and second parts of this programming assignment, be sure to implement Partition exactly as described in the video lectures (including exchanging the pivot element with the first element just before the main Partition subroutine).\n",
    "\n",
    "EXAMPLE: For the input array 8 2 4 5 7 1 you would consider the first (8), middle (4), and last (1) elements; since 4 is the median of the set {1,4,8}, you would use 4 as your pivot element."
   ]
  },
  {
   "cell_type": "code",
   "execution_count": 1,
   "metadata": {},
   "outputs": [
    {
     "name": "stdout",
     "output_type": "stream",
     "text": [
      "10000\n"
     ]
    }
   ],
   "source": [
    "f = open(\"QuickSort.txt\", \"r\")\n",
    "myArray = []\n",
    "for i in f:\n",
    "    myArray.append(int(i.strip()))\n",
    "f.close()\n",
    "print(len(myArray))"
   ]
  },
  {
   "cell_type": "code",
   "execution_count": 2,
   "metadata": {},
   "outputs": [],
   "source": [
    "def partition(Array, pivot_ind:str):\n",
    "    n = len(Array)\n",
    "    \n",
    "    if pivot_ind == 'first':\n",
    "        m = 0\n",
    "    if pivot_ind == 'last':\n",
    "        m = len(Array)-1\n",
    "    if pivot_ind == 'median_of_three':\n",
    "        List = [Array[0], Array[int((len(Array)-1)/2)], Array[-1]]\n",
    "        #print(\"Input Array at this level is\", Array, \"List of three at this level is\", List)\n",
    "        for i in range(len(List)):\n",
    "            if List[i]!= min(List) and List[i]!= max(List):\n",
    "                a = List[i]\n",
    "                m = Array.index(a)    \n",
    "                \n",
    "    if n < 2:\n",
    "        return Array, 0\n",
    "    \n",
    "    elif n == 2:\n",
    "        if Array[0] < Array [1]:\n",
    "            return Array, 1\n",
    "        else:\n",
    "            Array[0], Array[1] = Array[1], Array[0]\n",
    "            return Array, 1    \n",
    "    \n",
    "    else:\n",
    "        Array[0], Array[m] = Array[m], Array[0]\n",
    "        i = 1\n",
    "        for j in range(1,len(Array)):     \n",
    "            if Array[j] < Array[0]:\n",
    "                Array[i], Array[j] = Array[j], Array[i]\n",
    "                i = i + 1\n",
    "        Array[0], Array[i-1] = Array[i-1], Array[0]\n",
    "        #print(Array)\n",
    "        \n",
    "        left_Array, c1 = partition(Array[:(i-1)], pivot_ind)\n",
    "        right_Array, c2 = partition(Array[i:], pivot_ind)\n",
    "        \n",
    "        Array = left_Array + [Array[i-1]] + right_Array\n",
    "        c = c1 + c2 + len(Array)-1\n",
    "        \n",
    "        return Array, c\n",
    "    "
   ]
  },
  {
   "cell_type": "code",
   "execution_count": 3,
   "metadata": {},
   "outputs": [],
   "source": [
    "testArray = [2, 3, 4, 1, 5, 7]"
   ]
  },
  {
   "cell_type": "code",
   "execution_count": 4,
   "metadata": {
    "scrolled": true
   },
   "outputs": [
    {
     "name": "stdout",
     "output_type": "stream",
     "text": [
      "[1, 2, 3, 4, 5, 7] 8\n"
     ]
    }
   ],
   "source": [
    "Array, c = partition(testArray, \"median_of_three\")\n",
    "print(Array, c)"
   ]
  },
  {
   "cell_type": "code",
   "execution_count": 5,
   "metadata": {},
   "outputs": [
    {
     "name": "stdout",
     "output_type": "stream",
     "text": [
      "number of comparition made is 162085. Total run time is is 74 ms\n",
      "the first 10 elements in the sorted list is [1, 2, 3, 4, 5, 6, 7, 8, 9, 10]\n"
     ]
    }
   ],
   "source": [
    "import time\n",
    "\n",
    "f = open(\"QuickSort.txt\", \"r\")\n",
    "myArray = []\n",
    "for i in f:\n",
    "    myArray.append(int(i.strip()))\n",
    "f.close()\n",
    "\n",
    "start = time.time()\n",
    "myArray, c = partition(myArray,\"first\")\n",
    "end = time.time()\n",
    "\n",
    "print(\"number of comparition made is %d.\" % c, \"Total run time is is %d ms\" % ((end-start)*1000))\n",
    "print(\"the first 10 elements in the sorted list is\", myArray[0:10])"
   ]
  },
  {
   "cell_type": "code",
   "execution_count": 6,
   "metadata": {},
   "outputs": [
    {
     "name": "stdout",
     "output_type": "stream",
     "text": [
      "number of comparition made is 164123. Total run time is is 46 ms\n",
      "the first 10 elements in the sorted list is [1, 2, 3, 4, 5, 6, 7, 8, 9, 10]\n"
     ]
    }
   ],
   "source": [
    "### use last element as QuickSort Pivot ###\n",
    "\n",
    "f = open(\"QuickSort.txt\", \"r\")\n",
    "myArray = []\n",
    "for i in f:\n",
    "    myArray.append(int(i.strip()))\n",
    "f.close()\n",
    "\n",
    "start = time.time()\n",
    "myArray, c = partition(myArray,'last')\n",
    "end = time.time()\n",
    "\n",
    "print(\"number of comparition made is %d.\" % c, \"Total run time is is %d ms\" % ((end-start)*1000))\n",
    "print(\"the first 10 elements in the sorted list is\", myArray[0:10])"
   ]
  },
  {
   "cell_type": "code",
   "execution_count": 7,
   "metadata": {},
   "outputs": [
    {
     "name": "stdout",
     "output_type": "stream",
     "text": [
      "number of comparition made is 138382. Total run time is is 57 ms\n",
      "the first 10 elements in the sorted list is [1, 2, 3, 4, 5, 6, 7, 8, 9, 10]\n"
     ]
    }
   ],
   "source": [
    "### use last element as QuickSort Pivot ###\n",
    "\n",
    "f = open(\"QuickSort.txt\", \"r\")\n",
    "myArray = []\n",
    "for i in f:\n",
    "    myArray.append(int(i.strip()))\n",
    "f.close()\n",
    "\n",
    "start = time.time() \n",
    "myArray, c = partition(myArray,'median_of_three')\n",
    "end = time.time()\n",
    "\n",
    "print(\"number of comparition made is %d.\" % c, \"Total run time is is %d ms\" % ((end-start)*1000))\n",
    "print(\"the first 10 elements in the sorted list is\", myArray[0:10])"
   ]
  },
  {
   "cell_type": "code",
   "execution_count": null,
   "metadata": {},
   "outputs": [],
   "source": []
  }
 ],
 "metadata": {
  "kernelspec": {
   "display_name": "Python 3",
   "language": "python",
   "name": "python3"
  },
  "language_info": {
   "codemirror_mode": {
    "name": "ipython",
    "version": 3
   },
   "file_extension": ".py",
   "mimetype": "text/x-python",
   "name": "python",
   "nbconvert_exporter": "python",
   "pygments_lexer": "ipython3",
   "version": "3.7.4"
  }
 },
 "nbformat": 4,
 "nbformat_minor": 2
}
